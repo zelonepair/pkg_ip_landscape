{
 "cells": [
  {
   "cell_type": "markdown",
   "metadata": {},
   "source": [
    "# BigQuery Patent Exploration\n",
    "\n",
    "Use this notebook to prototype filters before wiring them into the automated pipeline."
   ]
  },
  {
   "cell_type": "code",
   "execution_count": 1,
   "id": "307cad41",
   "metadata": {},
   "outputs": [],
   "source": [
    "import os\n",
    "import sys\n",
    "\n",
    "try:\n",
    "    NOTEBOOK_DIR = os.path.dirname(__file__)\n",
    "except NameError:\n",
    "    NOTEBOOK_DIR = os.getcwd()\n",
    "\n",
    "PROJECT_ROOT = os.path.abspath(os.path.join(NOTEBOOK_DIR, '..'))\n",
    "if PROJECT_ROOT not in sys.path:\n",
    "    sys.path.insert(0, PROJECT_ROOT)\n"
   ]
  },
  {
   "cell_type": "code",
   "execution_count": 2,
   "metadata": {},
   "outputs": [],
   "source": [
    "from google.cloud import bigquery\n",
    "\n",
    "from src import config, query_builder"
   ]
  },
  {
   "cell_type": "markdown",
   "id": "a481fb67",
   "metadata": {},
   "source": [
    "## Query Updates \u2705\n",
    "\n",
    "Recent pipeline revisions align the notebook with production defaults:\n",
    "\n",
    "- Localized text fields now prefer English entries and gracefully fall back when it is unavailable.\n",
    "- Assignee aggregation uses `assignee_harmonized.name`, matching the latest BigQuery schema.\n",
    "- Defaults narrow the search to the trailing three publication years and cap results at 100 rows.\n",
    "\n",
    "Run the next cell to preview a sample result set with these defaults.\n"
   ]
  },
  {
   "cell_type": "code",
   "execution_count": null,
   "id": "85d8b034",
   "metadata": {},
   "outputs": [],
   "source": [
    "# Preview a sample of patents using the current configuration defaults\n",
    "from dotenv import find_dotenv, load_dotenv\n",
    "\n",
    "load_dotenv(find_dotenv(usecwd=True) or None)\n",
    "project_id = os.getenv(config.ENV_GCP_PROJECT_ID, config.DEFAULT_GCP_PROJECT_ID)\n",
    "client = bigquery.Client(project=project_id)\n",
    "\n",
    "sql = query_builder.build_query(limit=25, description_word_limit=config.DEFAULT_DESCRIPTION_WORD_LIMIT)\n",
    "job_config = query_builder.assemble_query_config(\n",
    "    start_year=config.DEFAULT_START_YEAR,\n",
    "    end_year=config.DEFAULT_END_YEAR,\n",
    "    description_word_limit=config.DEFAULT_DESCRIPTION_WORD_LIMIT,\n",
    ")\n",
    "preview = client.query(sql, job_config=job_config).result().to_dataframe()\n",
    "preview.head()\n"
   ]
  },
  {
   "cell_type": "markdown",
   "metadata": {},
   "source": [
    "Adjust `start_year`, `end_year`, CPC filters, or keyword lists in `src/config.py` to explore different slices of the dataset. Re-run the preview cell afterwards to inspect the impact.\n"
   ]
  },
  {
   "cell_type": "markdown",
   "metadata": {},
   "source": [
    "## Run the pipeline programmatically\n",
    "\n",
    "Populate `.env` (or export credentials in this notebook) before running the next cell. Adjust parameters as needed."
   ]
  },
  {
   "cell_type": "code",
   "execution_count": null,
   "metadata": {},
   "outputs": [],
   "source": [
    "import os\n",
    "\n",
    "from types import SimpleNamespace\n",
    "\n",
    "from dotenv import find_dotenv, load_dotenv  # type: ignore\n",
    "from src.pipeline import run_pipeline\n",
    "\n",
    "# Load environment variables once for the notebook session.\n",
    "load_dotenv(find_dotenv(usecwd=True) or None)\n",
    "\n",
    "args = SimpleNamespace(\n",
    "    project_id=None,  # Allow the pipeline to resolve CLI/env/config defaults\n",
    "    start_year=config.DEFAULT_START_YEAR,\n",
    "    end_year=config.DEFAULT_END_YEAR,\n",
    "    limit=config.DEFAULT_LIMIT,\n",
    "    output_raw=\"data/patents_raw.csv\",\n",
    "    output_classified=\"data/patents_classified.csv\",\n",
    "    openrouter_model=config.DEFAULT_OPENROUTER_MODEL,\n",
    "    openrouter_timeout=config.DEFAULT_OPENROUTER_TIMEOUT,\n",
    "    openrouter_delay=config.DEFAULT_OPENROUTER_DELAY,\n",
    "    skip_llm=True,  # Set to False when you have OPENROUTER_API_KEY configured\n",
    "    era_column=False,\n",
    "    log_level=\"INFO\",\n",
    "    description_word_limit=config.DEFAULT_DESCRIPTION_WORD_LIMIT,\n",
    "    max_retries=config.DEFAULT_MAX_RETRIES,\n",
    ")\n",
    "\n",
    "exit_code = run_pipeline(args)\n",
    "print(f\"Pipeline finished with exit code {exit_code}\")\n"
   ]
  }
 ],
 "metadata": {
  "kernelspec": {
   "display_name": ".venv",
   "language": "python",
   "name": "python3"
  },
  "language_info": {
   "codemirror_mode": {
    "name": "ipython",
    "version": 3
   },
   "file_extension": ".py",
   "mimetype": "text/x-python",
   "name": "python",
   "nbconvert_exporter": "python",
   "pygments_lexer": "ipython3",
   "version": "3.12.0"
  }
 },
 "nbformat": 4,
 "nbformat_minor": 5
}